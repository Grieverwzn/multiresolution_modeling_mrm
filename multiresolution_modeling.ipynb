{
  "nbformat": 4,
  "nbformat_minor": 0,
  "metadata": {
    "colab": {
      "name": "multiresolution_modeling.ipynb",
      "provenance": [],
      "collapsed_sections": [],
      "toc_visible": true,
      "authorship_tag": "ABX9TyM0/tdCTjDXFDx9O97RBsoR",
      "include_colab_link": true
    },
    "kernelspec": {
      "name": "python3",
      "display_name": "Python 3"
    },
    "language_info": {
      "name": "python"
    }
  },
  "cells": [
    {
      "cell_type": "markdown",
      "metadata": {
        "id": "view-in-github",
        "colab_type": "text"
      },
      "source": [
        "<a href=\"https://colab.research.google.com/github/Grieverwzn/multiresolution_modeling_mrm/blob/main/multiresolution_modeling.ipynb\" target=\"_parent\"><img src=\"https://colab.research.google.com/assets/colab-badge.svg\" alt=\"Open In Colab\"/></a>"
      ]
    },
    {
      "cell_type": "markdown",
      "metadata": {
        "id": "HUArQQu8ckkC"
      },
      "source": [
        "## Introduction\n",
        "- **GMNS**: The General Modeling Network Specification (GMNS) defines a common human and machine-readable format for sharing routable road network files. It is designed to be used in multi-modal static and dynamic transportation planning and operations models.\n",
        "\n",
        "- **AMS**: The objective of the AMS data hub is to define a prototype of operations and associated requirements that will allow for the effective integration of analysis modeling and simulation tools across various domains and scales. Easily exchange information and data at both the input and output levels.\n",
        "\n",
        "- **ASU Trans + AI Lab**: The team devotes to developing a better AMS data hub framework and a set of integrated open-source transportation tools. The objective of this notebook is to aggregate the developed software as a systematic modeling flow and demonstrate its successive steps, so call “7-steps modeling”. \n"
      ]
    },
    {
      "cell_type": "code",
      "metadata": {
        "colab": {
          "base_uri": "https://localhost:8080/",
          "height": 697
        },
        "id": "7TN3JHepPEq2",
        "outputId": "ad952cdb-cad8-4b0f-be68-7bde2a253d29"
      },
      "source": [
        "!pip install osm2gmns\n",
        "!pip install net2cell\n",
        "!pip install grid2demand"
      ],
      "execution_count": 2,
      "outputs": [
        {
          "output_type": "stream",
          "text": [
            "Collecting osm2gmns\n",
            "\u001b[?25l  Downloading https://files.pythonhosted.org/packages/1d/e0/94d5012e4cbf1e0b015602fa5c8ed5a2eca521cf6592f501f342587c6442/osm2gmns-0.4.1-py3-none-any.whl (45kB)\n",
            "\r\u001b[K     |███████▏                        | 10kB 15.7MB/s eta 0:00:01\r\u001b[K     |██████████████▎                 | 20kB 11.7MB/s eta 0:00:01\r\u001b[K     |█████████████████████▍          | 30kB 8.8MB/s eta 0:00:01\r\u001b[K     |████████████████████████████▌   | 40kB 7.6MB/s eta 0:00:01\r\u001b[K     |████████████████████████████████| 51kB 2.2MB/s \n",
            "\u001b[?25hRequirement already satisfied: pandas>=0.24.0 in /usr/local/lib/python3.7/dist-packages (from osm2gmns) (1.1.5)\n",
            "Requirement already satisfied: shapely>=1.7 in /usr/local/lib/python3.7/dist-packages (from osm2gmns) (1.7.1)\n",
            "Collecting protobuf>=3.14.0\n",
            "\u001b[?25l  Downloading https://files.pythonhosted.org/packages/7d/cc/abf8e30629db7a8b15efb79d4c87e235895d2c636ce7a4ac625cfc816f07/protobuf-3.15.6-cp37-cp37m-manylinux1_x86_64.whl (1.0MB)\n",
            "\u001b[K     |████████████████████████████████| 1.0MB 6.5MB/s \n",
            "\u001b[?25hRequirement already satisfied: python-dateutil>=2.7.3 in /usr/local/lib/python3.7/dist-packages (from pandas>=0.24.0->osm2gmns) (2.8.1)\n",
            "Requirement already satisfied: numpy>=1.15.4 in /usr/local/lib/python3.7/dist-packages (from pandas>=0.24.0->osm2gmns) (1.19.5)\n",
            "Requirement already satisfied: pytz>=2017.2 in /usr/local/lib/python3.7/dist-packages (from pandas>=0.24.0->osm2gmns) (2018.9)\n",
            "Requirement already satisfied: six>=1.9 in /usr/local/lib/python3.7/dist-packages (from protobuf>=3.14.0->osm2gmns) (1.15.0)\n",
            "Installing collected packages: protobuf, osm2gmns\n",
            "  Found existing installation: protobuf 3.12.4\n",
            "    Uninstalling protobuf-3.12.4:\n",
            "      Successfully uninstalled protobuf-3.12.4\n",
            "Successfully installed osm2gmns-0.4.1 protobuf-3.15.6\n"
          ],
          "name": "stdout"
        },
        {
          "output_type": "display_data",
          "data": {
            "application/vnd.colab-display-data+json": {
              "pip_warning": {
                "packages": [
                  "google"
                ]
              }
            }
          },
          "metadata": {
            "tags": []
          }
        },
        {
          "output_type": "stream",
          "text": [
            "Collecting net2cell\n",
            "  Downloading https://files.pythonhosted.org/packages/8b/64/812fc57ba46794d2f0152d44ab48e9418523c512fd46a3bf0873b90d39b5/net2cell-0.1.1-py3-none-any.whl\n",
            "Requirement already satisfied: pandas>=0.24.0 in /usr/local/lib/python3.7/dist-packages (from net2cell) (1.1.5)\n",
            "Requirement already satisfied: python-dateutil>=2.7.3 in /usr/local/lib/python3.7/dist-packages (from pandas>=0.24.0->net2cell) (2.8.1)\n",
            "Requirement already satisfied: pytz>=2017.2 in /usr/local/lib/python3.7/dist-packages (from pandas>=0.24.0->net2cell) (2018.9)\n",
            "Requirement already satisfied: numpy>=1.15.4 in /usr/local/lib/python3.7/dist-packages (from pandas>=0.24.0->net2cell) (1.19.5)\n",
            "Requirement already satisfied: six>=1.5 in /usr/local/lib/python3.7/dist-packages (from python-dateutil>=2.7.3->pandas>=0.24.0->net2cell) (1.15.0)\n",
            "Installing collected packages: net2cell\n",
            "Successfully installed net2cell-0.1.1\n",
            "Collecting grid2demand\n",
            "  Downloading https://files.pythonhosted.org/packages/7e/f0/58909dd3cbde8d0dd7ffd5c2264c03bd22d667c25076bc86e2bf7a8bd8a1/grid2demand-0.0.1.24-py3-none-any.whl\n",
            "Requirement already satisfied: numpy in /usr/local/lib/python3.7/dist-packages (from grid2demand) (1.19.5)\n",
            "Requirement already satisfied: pandas>=0.24.0 in /usr/local/lib/python3.7/dist-packages (from grid2demand) (1.1.5)\n",
            "Requirement already satisfied: pytz>=2017.2 in /usr/local/lib/python3.7/dist-packages (from pandas>=0.24.0->grid2demand) (2018.9)\n",
            "Requirement already satisfied: python-dateutil>=2.7.3 in /usr/local/lib/python3.7/dist-packages (from pandas>=0.24.0->grid2demand) (2.8.1)\n",
            "Requirement already satisfied: six>=1.5 in /usr/local/lib/python3.7/dist-packages (from python-dateutil>=2.7.3->pandas>=0.24.0->grid2demand) (1.15.0)\n",
            "Installing collected packages: grid2demand\n",
            "Successfully installed grid2demand-0.0.1.24\n"
          ],
          "name": "stdout"
        }
      ]
    },
    {
      "cell_type": "code",
      "metadata": {
        "colab": {
          "base_uri": "https://localhost:8080/"
        },
        "id": "_5iPhrNgdP6A",
        "outputId": "ddb1d802-0da8-42fa-a6b7-e020e29ca825"
      },
      "source": [
        "\"import packages\"\n",
        "import pandas as pd\n",
        "import osm2gmns as og \n",
        "import net2cell as nc\n",
        "import grid2demand as gd\n",
        "\n",
        "from google.colab import files\n",
        "import requests\n",
        "import io\n",
        "import os\n",
        "import time"
      ],
      "execution_count": 1,
      "outputs": [
        {
          "output_type": "stream",
          "text": [
            "osm2gmns, version 0.4.1\n",
            "ocean, version 0.1.1\n",
            "grid2demand, version 0.0.1.24\n"
          ],
          "name": "stdout"
        }
      ]
    },
    {
      "cell_type": "markdown",
      "metadata": {
        "id": "55xMlltndZBA"
      },
      "source": [
        "#### Step 0. OSM data download\n",
        "\n",
        "https://osm2gmns.readthedocs.io/en/latest/index.html\n",
        "----\n",
        "| Step |    Description    |       Software       | Input Files | Output Files |\n",
        "|:----:|:-----------------:|:--------------------:|:-----------:|:------------:|\n",
        "| 0    | OSM data download | Open Street Map(OSM) | - -         | Map.osm      |"
      ]
    },
    {
      "cell_type": "code",
      "metadata": {
        "id": "i3_IjzP9dVu4"
      },
      "source": [
        "\"Step 0.1 define output map folders\"\n",
        "map_folder = 'map_folder'\n",
        "hybrid_net_folder = 'hybrid_net_folder'"
      ],
      "execution_count": 3,
      "outputs": []
    },
    {
      "cell_type": "code",
      "metadata": {
        "id": "nKNJzwHCbbXe"
      },
      "source": [
        "\"Step 0.2 obtain OMS basemap\"\n",
        "\"Phoenix I-10 corridor is used as an example for the 7-step modeling\"\n",
        "url='https://raw.githubusercontent.com/Grieverwzn/multiresolution_modeling_mrm/main/maps/phx_I10_corridor/phx_I10_corridor.osm'\n",
        "s=requests.get(url).content"
      ],
      "execution_count": 4,
      "outputs": []
    },
    {
      "cell_type": "markdown",
      "metadata": {
        "id": "pfZ39iSliHaz"
      },
      "source": [
        "#### Step 1. Convert OSM data to GMNS\n",
        "one can display the network in NeXTA or QGIS.\n",
        "\n",
        "---\n",
        "| Step |    Description    |       Software       | Input Files | Output Files |\n",
        "|:----:|:-----------------:|:--------------------:|:-----------:|:------------:|\n",
        "| 0    | OSM data download | Open Street Map(OSM) | - -         | Map.osm      |"
      ]
    },
    {
      "cell_type": "code",
      "metadata": {
        "id": "U3p_8G9VgxKc"
      },
      "source": [
        "\"Step 1.1 get openstreet map file\"\n",
        "net = og.getNetFromOSMFile(io.StringIO(s.decode('utf-8')), POIs=True, default_speed=True, default_lanes=True)\n",
        "\"Step 1.2 join poi information and activity information\"\n",
        "og.connectPOIWithNet(net)\n",
        "og.generateNodeActivityInfo(net)\n",
        "\n",
        "\"Step 1.3 convert openstreet map file into GMNS network files: node.csv and link.csv\"\n",
        "og.outputNetToCSV(net, output_folder=map_folder)"
      ],
      "execution_count": 5,
      "outputs": []
    },
    {
      "cell_type": "markdown",
      "metadata": {
        "id": "2oLdpnhsikA6"
      },
      "source": [
        "#### Step 2. Convert GTFS data to GMNS"
      ]
    },
    {
      "cell_type": "markdown",
      "metadata": {
        "id": "6t5irvEgit9P"
      },
      "source": [
        "#### Step 3. Expand macroscopic network data to micro, meso\n",
        "one can display the networks in NeXTA or QGIS.\n",
        "\n",
        "---\n",
        "| Step |                   Description                  | Software |     Input Files    |                   Output Files                   |\n",
        "|:----:|:----------------------------------------------:|:--------:|:------------------:|:------------------------------------------------:|\n",
        "| 3    | Expand macroscopic network data to micro, meso | net2cell | Node.csv, Link.csv | Meso and micro networks in node.csv and link.csv |"
      ]
    },
    {
      "cell_type": "code",
      "metadata": {
        "colab": {
          "base_uri": "https://localhost:8080/"
        },
        "id": "DiQOE7ACh5SL",
        "outputId": "5c7b4389-3737-4c9b-e02b-8c620b5ea0e6"
      },
      "source": [
        "\"Step 3.1 consolidate nodes in intersections\"\n",
        "og.consolidateComplexIntersections(net)\n",
        "og.outputNetToCSV(net, output_folder=hybrid_net_folder)\n",
        "\"Step 3.2 read macro network and convert it into hybrid networks (i.e. meso and micro net)\"\n",
        "macro_net = nc.readMacroNet(cwd=hybrid_net_folder)\n",
        "nc.generateHybridNets(macro_net)"
      ],
      "execution_count": 6,
      "outputs": [
        {
          "output_type": "stream",
          "text": [
            "Reading input data...\n",
            "  reading node.csv\n",
            "  reading link.csv\n",
            "  removing links shorter than 3.0 meters\n",
            "  9 short links have been removed\n",
            "Initilizing original links...\n",
            "Generating normal meso links...\n",
            "Generating connector links...\n",
            "Converting coordiantes back to latlon\n",
            "Output networks...\n"
          ],
          "name": "stdout"
        }
      ]
    },
    {
      "cell_type": "markdown",
      "metadata": {
        "id": "FRkpQeo0qSkX"
      },
      "source": [
        "\n",
        "Step 4. Zone-to-zone travel demand\n",
        "\n",
        "---\n",
        "| Step |         Description        |   Software  |                   Input Files                  |                       Output Files                       |\n",
        "|:----:|:--------------------------:|:-----------:|:----------------------------------------------:|:--------------------------------------------------------:|\n",
        "| 4    | Zone-to-zone travel demand | grid2demand | Node.csv, Link.csv, Poi.csv, Poi_trip_rate.csv | Demand.csv, Zone.csv, Accessibility.csv, Input_agent.csv |"
      ]
    },
    {
      "cell_type": "code",
      "metadata": {
        "colab": {
          "base_uri": "https://localhost:8080/"
        },
        "id": "7lyY5TB5qo_i",
        "outputId": "57b02296-450e-411f-e9aa-12f795882742"
      },
      "source": [
        "\"Step 4.1: Read Input Network Data\"\n",
        "net = gd.ReadNetworkFiles(input_folder=map_folder)\n",
        "\n",
        "\"Step 4.2: Partition Grid into cells\"\n",
        "zone = gd.PartitionGrid(number_of_x_blocks=5, number_of_y_blocks=5, cell_width=None, cell_height=None,\n",
        "                           latitude=30)\n",
        "# user can customize number of grid cells or cell's width and height\n",
        "\n",
        "\"Step 4.3: Get Production/Attraction Rates of Each Land Use Type with a Specific Trip Purpose\"\n",
        "triprate = gd.GetPoiTripRate(trip_rate_folder='',trip_purpose=1)\n",
        "# user can customize poi_trip_rate.csv and trip purpose\n",
        "\n",
        "\"Step 4.4: Define Production/Attraction Value of Each Node According to POI Type\"\n",
        "nodedemand = gd.GetNodeDemand()\n",
        "\n",
        "\"Step 4.5: Calculate Zone-to-zone Accessibility Matrix by Centroid-to-centroid Straight Distance\"\n",
        "accessibility = gd.ProduceAccessMatrix(latitude=30, accessibility_folder='')\n",
        "# user can customize the latitude of the research area and accessibility.csv\n",
        "\n",
        "\"Step 4.6: Apply Gravity Model to Conduct Trip Distribution\"\n",
        "demand = gd.RunGravityModel(trip_purpose=1, a=None, b=None, c=None)\n",
        "# user can customize friction factor coefficients under a specific trip purpose\n",
        "\"Step 7: Generate Agent\"\n",
        "demand = gd.GenerateAgentBasedDemand()"
      ],
      "execution_count": 7,
      "outputs": [
        {
          "output_type": "stream",
          "text": [
            "2021-03-30 08:28:42,390 - grid2demand_0206d.py[line:716] - WARNING: poi_trip_rate.csv does not exist in the current folder. Default values will be used.\n",
            "2021-03-30 08:28:42,422 - grid2demand_0206d.py[line:839] - WARNING: Production value of residential nodes is not defined! Default value is 10.\n",
            "2021-03-30 08:28:42,424 - grid2demand_0206d.py[line:842] - WARNING: Attraction value of residential nodes is not defined! Default value is 10.\n",
            "2021-03-30 08:28:42,429 - grid2demand_0206d.py[line:845] - WARNING: Production value of boundary nodes is not defined! Default value is 1000.\n",
            "2021-03-30 08:28:42,434 - grid2demand_0206d.py[line:848] - WARNING: Attraction value of boundary nodes is not defined! Default value is 1000.\n"
          ],
          "name": "stderr"
        },
        {
          "output_type": "stream",
          "text": [
            "\n",
            "Number of zones including virtual zones = 45\n",
            "\n",
            "Tab of trip purposes used in grid2demand =  1\n",
            "\n",
            "Total number of poi nodes with unmatched production rate =  2197\n",
            "Total number of poi nodes with unmatched attraction rate =  621\n",
            "\n",
            "Latitude used for grid2demand =  30\n",
            "\n",
            "Number of OD pairs =  2025\n",
            "\n",
            "Largest accessibility of distance = 10.12 km\n",
            "Average accessibility of distance = 3.87 km\n",
            "\n",
            "Default values of friction factor coefficients under trip purpose 1: \n",
            "a= 28507 \n",
            "b= -0.02 \n",
            "c= -0.123\n",
            "\n",
            "Zone-to-zone OD pair with largest volume is from Gate12 to Gate16\n",
            "Origin zone with largest production volume is Gate16\n",
            "Destination zone with largest attraction volume is Gate16\n",
            "\n",
            "Number of agents =  136479\n"
          ],
          "name": "stdout"
        }
      ]
    },
    {
      "cell_type": "markdown",
      "metadata": {
        "id": "u558xfb5gSH6"
      },
      "source": [
        "#### Step 5. Traffic signal for timing\n",
        "\n",
        "---\n",
        "| Step |        Description        |                 Software                |            Input Files           | Output Files |\n",
        "|:----:|:-------------------------:|:---------------------------------------:|:--------------------------------:|:------------:|\n",
        "| 5    | Traffic signal for timing | Signal2timing (In development), Sigma-X | Node.csv, Link.csv, Movement.csv | Timing.csv   |"
      ]
    },
    {
      "cell_type": "markdown",
      "metadata": {
        "id": "s6yxc-KIiBRJ"
      },
      "source": [
        ""
      ]
    },
    {
      "cell_type": "code",
      "metadata": {
        "colab": {
          "base_uri": "https://localhost:8080/"
        },
        "id": "ME9WqvMDjZPw",
        "outputId": "53a52ae9-cbdf-4140-c485-09074d3c43b4"
      },
      "source": [
        "!zip -r /content/map_folder.zip /content/map_folder\n"
      ],
      "execution_count": 8,
      "outputs": [
        {
          "output_type": "stream",
          "text": [
            "  adding: content/map_folder/ (stored 0%)\n",
            "  adding: content/map_folder/zone.csv (deflated 75%)\n",
            "  adding: content/map_folder/input_agent.csv (deflated 87%)\n",
            "  adding: content/map_folder/poi_trip_rate.csv (deflated 74%)\n",
            "  adding: content/map_folder/poi.csv (deflated 76%)\n",
            "  adding: content/map_folder/log.txt (deflated 91%)\n",
            "  adding: content/map_folder/demand.csv (deflated 76%)\n",
            "  adding: content/map_folder/accessibility.csv (deflated 81%)\n",
            "  adding: content/map_folder/link.csv (deflated 80%)\n",
            "  adding: content/map_folder/node.csv (deflated 72%)\n"
          ],
          "name": "stdout"
        }
      ]
    },
    {
      "cell_type": "markdown",
      "metadata": {
        "id": "KOMQB6YWhm8N"
      },
      "source": [
        ""
      ]
    }
  ]
}